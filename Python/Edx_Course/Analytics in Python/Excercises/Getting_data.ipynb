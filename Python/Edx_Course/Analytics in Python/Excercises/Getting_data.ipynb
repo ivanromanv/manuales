{
 "cells": [
  {
   "cell_type": "markdown",
   "metadata": {},
   "source": [
    "<h3>Step 1: Import the requests library</h3>"
   ]
  },
  {
   "cell_type": "code",
   "execution_count": null,
   "metadata": {
    "collapsed": true
   },
   "outputs": [],
   "source": [
    "import requests"
   ]
  },
  {
   "cell_type": "markdown",
   "metadata": {},
   "source": [
    "<h3>Step 2: Send an HTTP request, get the response, and save in a variable</h3>"
   ]
  },
  {
   "cell_type": "code",
   "execution_count": null,
   "metadata": {},
   "outputs": [],
   "source": [
    "response = requests.get(\"http://www.epicurious.com/search/Tofu+Chili\")"
   ]
  },
  {
   "cell_type": "markdown",
   "metadata": {},
   "source": [
    "<h3>Step 3: Check the response status code to see if everything went as planned</h3>\n",
    "<li>status code 200: the request response cycle was successful\n",
    "<li>any other status code: it didn't work (e.g., 404 = page not found)"
   ]
  },
  {
   "cell_type": "code",
   "execution_count": null,
   "metadata": {},
   "outputs": [],
   "source": [
    "print(response.status_code)"
   ]
  },
  {
   "cell_type": "markdown",
   "metadata": {},
   "source": [
    "<h3>Step 4: Get the content of the response</h3>\n",
    "<li>Convert to utf-8 if necessary"
   ]
  },
  {
   "cell_type": "code",
   "execution_count": null,
   "metadata": {},
   "outputs": [],
   "source": [
    "response.content.decode('utf-8')"
   ]
  },
  {
   "cell_type": "markdown",
   "metadata": {},
   "source": [
    "<h4>Problem: Get the contents of Wikipedia's main page and look for the string \"Did you know\" in it</h4>"
   ]
  },
  {
   "cell_type": "code",
   "execution_count": 10,
   "metadata": {
    "collapsed": true
   },
   "outputs": [],
   "source": [
    "url = \"https://en.wikipedia.org/wiki/main_page\"\n",
    "#The rest of your code should go below this line\n"
   ]
  },
  {
   "cell_type": "markdown",
   "metadata": {},
   "source": [
    "<h2>JSON</h2>\n",
    "<li>The python library - json - deals with converting text to and from JSON\n"
   ]
  },
  {
   "cell_type": "code",
   "execution_count": 1,
   "metadata": {},
   "outputs": [
    {
     "name": "stdout",
     "output_type": "stream",
     "text": [
      "[{'b': [2, 4], 'c': 3.0, 'a': 'A'}]\n"
     ]
    }
   ],
   "source": [
    "import json\n",
    "data_string = '[{\"b\": [2, 4], \"c\": 3.0, \"a\": \"A\"}]'\n",
    "python_data = json.loads(data_string)\n",
    "print(python_data)"
   ]
  },
  {
   "cell_type": "markdown",
   "metadata": {},
   "source": [
    "<h3>json.loads recursively decodes a string in JSON format into equivalent python objects</h3>\n",
    "<li>data_string's outermost element is converted into a python list\n",
    "<li>the first element of that list is converted into a dictionary\n",
    "<li>the key of that dictionary is converted into a string\n",
    "<li>the value of that dictionary is converted into a list of two integer elements"
   ]
  },
  {
   "cell_type": "code",
   "execution_count": 2,
   "metadata": {},
   "outputs": [
    {
     "name": "stdout",
     "output_type": "stream",
     "text": [
      "<class 'str'> <class 'list'>\n",
      "<class 'dict'> {'b': [2, 4], 'c': 3.0, 'a': 'A'}\n",
      "<class 'list'> [2, 4]\n"
     ]
    }
   ],
   "source": [
    "print(type(data_string),type(python_data))\n",
    "print(type(python_data[0]),python_data[0])\n",
    "print(type(python_data[0]['b']),python_data[0]['b'])"
   ]
  },
  {
   "cell_type": "markdown",
   "metadata": {},
   "source": [
    "<h3>json.loads will throw an exception if the format is incorrect</h3>"
   ]
  },
  {
   "cell_type": "code",
   "execution_count": null,
   "metadata": {},
   "outputs": [],
   "source": [
    "#Wrong\n",
    "json.loads(\"Hello\")\n",
    "#Correct\n",
    "json.loads('\"Hello\"')"
   ]
  },
  {
   "cell_type": "code",
   "execution_count": 3,
   "metadata": {},
   "outputs": [
    {
     "name": "stdout",
     "output_type": "stream",
     "text": [
      "<class 'str'>\n",
      "[{\"b\": [2, 4], \"c\": 3.0, \"a\": \"A\"}]\n"
     ]
    }
   ],
   "source": [
    "import json\n",
    "data_string = json.dumps(python_data)\n",
    "print(type(data_string))\n",
    "print(data_string)\n"
   ]
  },
  {
   "cell_type": "markdown",
   "metadata": {},
   "source": [
    "<h2>requests library and JSON</h2>"
   ]
  },
  {
   "cell_type": "code",
   "execution_count": 7,
   "metadata": {},
   "outputs": [
    {
     "name": "stdout",
     "output_type": "stream",
     "text": [
      "<class 'dict'>\n"
     ]
    }
   ],
   "source": [
    "import requests\n",
    "address=\"Columbia University, New York, NY\"\n",
    "url=\"https://maps.googleapis.com/maps/api/geocode/json?address=%s\" % (address)\n",
    "response = requests.get(url).json()\n",
    "print(type(response))"
   ]
  },
  {
   "cell_type": "markdown",
   "metadata": {},
   "source": [
    "<h3>Exception checking!</h3>"
   ]
  },
  {
   "cell_type": "code",
   "execution_count": 8,
   "metadata": {},
   "outputs": [
    {
     "name": "stdout",
     "output_type": "stream",
     "text": [
      "<class 'dict'>\n"
     ]
    }
   ],
   "source": [
    "import requests\n",
    "address=\"Columbia University, New York, NY\"\n",
    "url=\"https://maps.googleapis.com/maps/api/geocode/json?address=%s\" % (address)\n",
    "try:\n",
    "    response = requests.get(url)\n",
    "    if not response.status_code == 200:\n",
    "        print(\"HTTP error\",response.status_code)\n",
    "    else:\n",
    "        try:\n",
    "            response_data = response.json()\n",
    "        except:\n",
    "            print(\"Response not in valid JSON format\")\n",
    "except:\n",
    "    print(\"Something went wrong with requests.get\")\n",
    "print(type(response_data))"
   ]
  },
  {
   "cell_type": "code",
   "execution_count": 10,
   "metadata": {},
   "outputs": [
    {
     "data": {
      "text/plain": [
       "'https://maps.googleapis.com/maps/api/geocode/json?address=Columbia University, New York, NY'"
      ]
     },
     "execution_count": 10,
     "metadata": {},
     "output_type": "execute_result"
    }
   ],
   "source": [
    "url"
   ]
  },
  {
   "cell_type": "code",
   "execution_count": 11,
   "metadata": {},
   "outputs": [
    {
     "data": {
      "text/plain": [
       "[{'address_components': [{'long_name': '116th St',\n",
       "    'short_name': '116th St',\n",
       "    'types': ['route']},\n",
       "   {'long_name': 'Manhattan',\n",
       "    'short_name': 'Manhattan',\n",
       "    'types': ['political', 'sublocality', 'sublocality_level_1']},\n",
       "   {'long_name': 'New York',\n",
       "    'short_name': 'New York',\n",
       "    'types': ['locality', 'political']},\n",
       "   {'long_name': 'New York County',\n",
       "    'short_name': 'New York County',\n",
       "    'types': ['administrative_area_level_2', 'political']},\n",
       "   {'long_name': 'New York',\n",
       "    'short_name': 'NY',\n",
       "    'types': ['administrative_area_level_1', 'political']},\n",
       "   {'long_name': 'United States',\n",
       "    'short_name': 'US',\n",
       "    'types': ['country', 'political']},\n",
       "   {'long_name': '10027', 'short_name': '10027', 'types': ['postal_code']}],\n",
       "  'formatted_address': '116th St & Broadway, New York, NY 10027, USA',\n",
       "  'geometry': {'location': {'lat': 40.8075355, 'lng': -73.9625727},\n",
       "   'location_type': 'GEOMETRIC_CENTER',\n",
       "   'viewport': {'northeast': {'lat': 40.8088844802915,\n",
       "     'lng': -73.96122371970849},\n",
       "    'southwest': {'lat': 40.8061865197085, 'lng': -73.9639216802915}}},\n",
       "  'place_id': 'ChIJyQ3Tlj72wokRUCflR_kzeVc',\n",
       "  'types': ['establishment', 'point_of_interest', 'university']}]"
      ]
     },
     "execution_count": 11,
     "metadata": {},
     "output_type": "execute_result"
    }
   ],
   "source": [
    "response_data['results']"
   ]
  },
  {
   "cell_type": "code",
   "execution_count": 20,
   "metadata": {},
   "outputs": [
    {
     "name": "stdout",
     "output_type": "stream",
     "text": [
      "address_components\n",
      "formatted_address\n",
      "geometry\n",
      "place_id\n",
      "types\n"
     ]
    }
   ],
   "source": [
    "for thing in response_data['results'][0]:\n",
    "    print(thing)"
   ]
  },
  {
   "cell_type": "code",
   "execution_count": 14,
   "metadata": {},
   "outputs": [
    {
     "data": {
      "text/plain": [
       "{'location': {'lat': 40.8075355, 'lng': -73.9625727},\n",
       " 'location_type': 'GEOMETRIC_CENTER',\n",
       " 'viewport': {'northeast': {'lat': 40.8088844802915,\n",
       "   'lng': -73.96122371970849},\n",
       "  'southwest': {'lat': 40.8061865197085, 'lng': -73.9639216802915}}}"
      ]
     },
     "execution_count": 14,
     "metadata": {},
     "output_type": "execute_result"
    }
   ],
   "source": [
    "response_data['results'][0]['geometry']"
   ]
  },
  {
   "cell_type": "code",
   "execution_count": 21,
   "metadata": {},
   "outputs": [
    {
     "data": {
      "text/plain": [
       "{'lat': 40.8075355, 'lng': -73.9625727}"
      ]
     },
     "execution_count": 21,
     "metadata": {},
     "output_type": "execute_result"
    }
   ],
   "source": [
    "response_data['results'][0]['geometry']['location']"
   ]
  },
  {
   "cell_type": "code",
   "execution_count": 19,
   "metadata": {},
   "outputs": [
    {
     "name": "stdout",
     "output_type": "stream",
     "text": [
      "Latitude : 40.8075355 Longitude : -73.9625727\n"
     ]
    }
   ],
   "source": [
    "latitude = response_data['results'][0]['geometry']['location']['lat']\n",
    "longitude = response_data['results'][0]['geometry']['location']['lng']\n",
    "print(\"Latitude :\",latitude, \"Longitude :\", longitude)"
   ]
  },
  {
   "cell_type": "markdown",
   "metadata": {},
   "source": [
    "<h2>Problem 1: Write a function that takes an address as an argument and returns a (latitude, longitude) tuple</h2>"
   ]
  },
  {
   "cell_type": "code",
   "execution_count": 23,
   "metadata": {},
   "outputs": [],
   "source": [
    "def get_lat_lng(address_string):\n",
    "    #python code goes here\n",
    "def get_lat_lng(address_string):\n",
    "    #python code goes here\n",
    "    import json\n",
    "    import requests\n",
    "    url=\"https://maps.googleapis.com/maps/api/geocode/json?address=%s\" % (address_string)\n",
    "    try:\n",
    "        response = requests.get(url)\n",
    "        if not response.status_code == 200:\n",
    "            print(\"HTTP error\",response.status_code)\n",
    "        else:\n",
    "            try:\n",
    "                response_data = response.json()\n",
    "            except:\n",
    "                print(\"Response not in valid JSON format\")\n",
    "    except:\n",
    "        print(\"Something went wrong with requests.get\")\n",
    "    latitude = response_data['results'][0]['geometry']['location']['lat']\n",
    "    longitude = response_data['results'][0]['geometry']['location']['lng']\n",
    "    return latitude, longitude\n",
    "    url=\"https://maps.googleapis.com/maps/api/geocode/json?address=%s\" % (address_string)\n",
    "    try:\n",
    "        response = requests.get(url)\n",
    "        if not response.status_code == 200:\n",
    "            print(\"HTTP error\",response.status_code)\n",
    "        else:\n",
    "            try:\n",
    "                response_data = response.json()\n",
    "            except:\n",
    "                print(\"Response not in valid JSON format\")\n",
    "    except:\n",
    "        print(\"Something went wrong with requests.get\")\n",
    "    latitude = response_data['results'][0]['geometry']['location']['lat']\n",
    "    longitude = response_data['results'][0]['geometry']['location']['lng']\n",
    "    return latitude, longitude"
   ]
  },
  {
   "cell_type": "markdown",
   "metadata": {},
   "source": [
    "<h2>Problem 2: Extend the function so that it takes a possibly incomplete address as an argument and returns a list of tuples of the form (complete address, latitude, longitude)</h2>"
   ]
  },
  {
   "cell_type": "code",
   "execution_count": 26,
   "metadata": {},
   "outputs": [],
   "source": [
    "def get_lat_lng(address_string):\n",
    "    #python code goes here\n",
    "    import json\n",
    "    import requests\n",
    "    url=\"https://maps.googleapis.com/maps/api/geocode/json?address=%s\" % (address_string)\n",
    "    try:\n",
    "        response = requests.get(url)\n",
    "        if not response.status_code == 200:\n",
    "            print(\"HTTP error\",response.status_code)\n",
    "        else:\n",
    "            try:\n",
    "                response_data = response.json()\n",
    "            except:\n",
    "                print(\"Response not in valid JSON format\")\n",
    "    except:\n",
    "        print(\"Something went wrong with requests.get\")\n",
    "    latitude = response_data['results'][0]['geometry']['location']['lat']\n",
    "    longitude = response_data['results'][0]['geometry']['location']['lng']\n",
    "    address = response_data['results'][0]['formatted_address']\n",
    "    #print(\"Latitude :\", latitude, \"Longitude :\",longitude)\n",
    "    #print(\"Address :\", address)    \n",
    "    return address, latitude, longitude\n",
    "    "
   ]
  },
  {
   "cell_type": "markdown",
   "metadata": {},
   "source": [
    "<h1>XML</h1>\n",
    "<li>The python library - lxml - deals with converting an xml string to python objects and vice versa</li>"
   ]
  },
  {
   "cell_type": "code",
   "execution_count": 30,
   "metadata": {},
   "outputs": [],
   "source": [
    "data_string = \"\"\"\n",
    "<Bookstore>\n",
    "   <Book ISBN=\"ISBN-13:978-1599620787\" Price=\"15.23\" Weight=\"1.5\">\n",
    "      <Title>New York Deco</Title>\n",
    "      <Authors>\n",
    "         <Author Residence=\"New York City\">\n",
    "            <First_Name>Richard</First_Name>\n",
    "            <Last_Name>Berenholtz</Last_Name>\n",
    "         </Author>\n",
    "      </Authors>\n",
    "   </Book>\n",
    "   <Book ISBN=\"ISBN-13:978-1579128562\" Price=\"15.80\">\n",
    "      <Remark>\n",
    "      Five Hundred Buildings of New York and over one million other books are available for Amazon Kindle.\n",
    "      </Remark>\n",
    "      <Title>Five Hundred Buildings of New York</Title>\n",
    "      <Authors>\n",
    "         <Author Residence=\"Beijing\">\n",
    "            <First_Name>Bill</First_Name>\n",
    "            <Last_Name>Harris</Last_Name>\n",
    "         </Author>\n",
    "         <Author Residence=\"New York City\">\n",
    "            <First_Name>Jorg</First_Name>\n",
    "            <Last_Name>Brockmann</Last_Name>\n",
    "         </Author>\n",
    "      </Authors>\n",
    "   </Book>\n",
    "</Bookstore>\n",
    "\"\"\""
   ]
  },
  {
   "cell_type": "code",
   "execution_count": 31,
   "metadata": {},
   "outputs": [
    {
     "name": "stdout",
     "output_type": "stream",
     "text": [
      "Bookstore <class 'str'>\n"
     ]
    }
   ],
   "source": [
    "from lxml import etree\n",
    "root = etree.XML(data_string)\n",
    "print(root.tag,type(root.tag))"
   ]
  },
  {
   "cell_type": "code",
   "execution_count": 33,
   "metadata": {},
   "outputs": [
    {
     "name": "stdout",
     "output_type": "stream",
     "text": [
      "<Bookstore>\n",
      "   <Book ISBN=\"ISBN-13:978-1599620787\" Price=\"15.23\" Weight=\"1.5\">\n",
      "      <Title>New York Deco</Title>\n",
      "      <Authors>\n",
      "         <Author Residence=\"New York City\">\n",
      "            <First_Name>Richard</First_Name>\n",
      "            <Last_Name>Berenholtz</Last_Name>\n",
      "         </Author>\n",
      "      </Authors>\n",
      "   </Book>\n",
      "   <Book ISBN=\"ISBN-13:978-1579128562\" Price=\"15.80\">\n",
      "      <Remark>\n",
      "      Five Hundred Buildings of New York and over one million other books are available for Amazon Kindle.\n",
      "      </Remark>\n",
      "      <Title>Five Hundred Buildings of New York</Title>\n",
      "      <Authors>\n",
      "         <Author Residence=\"Beijing\">\n",
      "            <First_Name>Bill</First_Name>\n",
      "            <Last_Name>Harris</Last_Name>\n",
      "         </Author>\n",
      "         <Author Residence=\"New York City\">\n",
      "            <First_Name>Jorg</First_Name>\n",
      "            <Last_Name>Brockmann</Last_Name>\n",
      "         </Author>\n",
      "      </Authors>\n",
      "   </Book>\n",
      "</Bookstore>\n",
      "\n"
     ]
    }
   ],
   "source": [
    "print(etree.tostring(root, pretty_print=True).decode(\"utf-8\"))"
   ]
  },
  {
   "cell_type": "markdown",
   "metadata": {},
   "source": [
    "<h3>Iterating over an XML tree</h3>\n",
    "<li>Use an iterator. \n",
    "<li>The iterator will generate every tree element for a given subtree"
   ]
  },
  {
   "cell_type": "code",
   "execution_count": 34,
   "metadata": {},
   "outputs": [
    {
     "name": "stdout",
     "output_type": "stream",
     "text": [
      "<Element Bookstore at 0x15532caa788>\n",
      "<Element Book at 0x15532caa708>\n",
      "<Element Title at 0x15532cc2d08>\n",
      "<Element Authors at 0x15532cd9108>\n",
      "<Element Author at 0x15532caa708>\n",
      "<Element First_Name at 0x15532cc2d08>\n",
      "<Element Last_Name at 0x15532cd9108>\n",
      "<Element Book at 0x15532cd90c8>\n",
      "<Element Remark at 0x15532caa708>\n",
      "<Element Title at 0x15532cc2d08>\n",
      "<Element Authors at 0x15532cd90c8>\n",
      "<Element Author at 0x15532caa708>\n",
      "<Element First_Name at 0x15532cc2d08>\n",
      "<Element Last_Name at 0x15532cd90c8>\n",
      "<Element Author at 0x15532cd9108>\n",
      "<Element First_Name at 0x15532caa708>\n",
      "<Element Last_Name at 0x15532cc2d08>\n"
     ]
    }
   ],
   "source": [
    "for element in root.iter():\n",
    "    print(element)"
   ]
  },
  {
   "cell_type": "markdown",
   "metadata": {},
   "source": [
    "<h4>Or just use the child in subtree construction"
   ]
  },
  {
   "cell_type": "code",
   "execution_count": 35,
   "metadata": {},
   "outputs": [
    {
     "name": "stdout",
     "output_type": "stream",
     "text": [
      "<Element Book at 0x15532cc26c8>\n",
      "<Element Book at 0x15532cd9188>\n"
     ]
    }
   ],
   "source": [
    "for child in root:\n",
    "    print(child)"
   ]
  },
  {
   "cell_type": "markdown",
   "metadata": {},
   "source": [
    "<h4>Accessing the tag</h4>\n"
   ]
  },
  {
   "cell_type": "code",
   "execution_count": 36,
   "metadata": {},
   "outputs": [
    {
     "name": "stdout",
     "output_type": "stream",
     "text": [
      "Book\n",
      "Book\n"
     ]
    }
   ],
   "source": [
    "for child in root:\n",
    "    print(child.tag)"
   ]
  },
  {
   "cell_type": "markdown",
   "metadata": {},
   "source": [
    "<h4>Using the iterator to get specific tags<h4>\n",
    "<li>In the below example, only the author tags are accessed\n",
    "<li>For each author tag, the .find function accesses the First_Name and Last_Name tags\n",
    "<li>The .find function only looks at the children, not other descendants, so be careful!\n",
    "<li>The .text attribute prints the text in a leaf node"
   ]
  },
  {
   "cell_type": "code",
   "execution_count": 47,
   "metadata": {},
   "outputs": [
    {
     "name": "stdout",
     "output_type": "stream",
     "text": [
      "Richard Berenholtz\n",
      "Bill Harris\n",
      "Jorg Brockmann\n"
     ]
    }
   ],
   "source": [
    "for element in root.iter(\"Author\"):\n",
    "    print(element.find('First_Name').text,element.find('Last_Name').text)"
   ]
  },
  {
   "cell_type": "markdown",
   "metadata": {},
   "source": [
    "<h4>Problem: Find the last names of all authors in the tree “root” using xpath</h4>"
   ]
  },
  {
   "cell_type": "code",
   "execution_count": 46,
   "metadata": {},
   "outputs": [
    {
     "name": "stdout",
     "output_type": "stream",
     "text": [
      "Berenholtz\n",
      "Harris\n",
      "Brockmann\n"
     ]
    }
   ],
   "source": [
    "for element in root.findall(\"Book/Authors/Author/Last_Name\"):\n",
    "    print(element.text)"
   ]
  },
  {
   "cell_type": "markdown",
   "metadata": {},
   "source": [
    "<h4>Using values of attributes as filters</h4>\n",
    "<li>Example: Find the first name of the author of a book that weighs 1.5 oz"
   ]
  },
  {
   "cell_type": "code",
   "execution_count": 52,
   "metadata": {},
   "outputs": [
    {
     "data": {
      "text/plain": [
       "'Richard'"
      ]
     },
     "execution_count": 52,
     "metadata": {},
     "output_type": "execute_result"
    }
   ],
   "source": [
    "root.find('Book[@Weight=\"1.5\"]/Authors/Author/First_Name').text"
   ]
  },
  {
   "cell_type": "markdown",
   "metadata": {},
   "source": [
    "<h4>Problem: Print first and last names of all authors who live in New York City</h4>"
   ]
  },
  {
   "cell_type": "code",
   "execution_count": null,
   "metadata": {},
   "outputs": [],
   "source": [
    "\n"
   ]
  },
  {
   "cell_type": "code",
   "execution_count": null,
   "metadata": {},
   "outputs": [],
   "source": []
  },
  {
   "cell_type": "code",
   "execution_count": null,
   "metadata": {},
   "outputs": [],
   "source": []
  },
  {
   "cell_type": "code",
   "execution_count": null,
   "metadata": {},
   "outputs": [],
   "source": []
  },
  {
   "cell_type": "code",
   "execution_count": null,
   "metadata": {},
   "outputs": [],
   "source": []
  },
  {
   "cell_type": "code",
   "execution_count": null,
   "metadata": {},
   "outputs": [],
   "source": []
  }
 ],
 "metadata": {
  "anaconda-cloud": {},
  "kernelspec": {
   "display_name": "Python 3",
   "language": "python",
   "name": "python3"
  },
  "language_info": {
   "codemirror_mode": {
    "name": "ipython",
    "version": 3
   },
   "file_extension": ".py",
   "mimetype": "text/x-python",
   "name": "python",
   "nbconvert_exporter": "python",
   "pygments_lexer": "ipython3",
   "version": "3.6.5"
  }
 },
 "nbformat": 4,
 "nbformat_minor": 2
}
